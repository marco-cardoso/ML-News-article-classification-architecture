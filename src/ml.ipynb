{
 "cells": [
  {
   "cell_type": "code",
   "execution_count": 27,
   "metadata": {},
   "outputs": [
    {
     "name": "stdout",
     "output_type": "stream",
     "text": [
      "The autoreload extension is already loaded. To reload it, use:\n",
      "  %reload_ext autoreload\n"
     ]
    }
   ],
   "source": [
    "import numpy as np\n",
    "import pandas as pd\n",
    "\n",
    "import seaborn as sns\n",
    "import matplotlib.pyplot as plt\n",
    "\n",
    "from sklearn.naive_bayes import MultinomialNB\n",
    "from sklearn.feature_extraction.text import TfidfVectorizer\n",
    "from sklearn.model_selection import learning_curve\n",
    "\n",
    "from utils.feature_engineering import preprocess, preprocess_topics\n",
    "from database.main import Database\n",
    "db = Database()\n",
    "\n",
    "%load_ext autoreload\n",
    "%autoreload 2\n",
    "\n",
    "%matplotlib inline"
   ]
  },
  {
   "cell_type": "code",
   "execution_count": 28,
   "metadata": {},
   "outputs": [
    {
     "data": {
      "text/html": [
       "<div>\n",
       "<style scoped>\n",
       "    .dataframe tbody tr th:only-of-type {\n",
       "        vertical-align: middle;\n",
       "    }\n",
       "\n",
       "    .dataframe tbody tr th {\n",
       "        vertical-align: top;\n",
       "    }\n",
       "\n",
       "    .dataframe thead th {\n",
       "        text-align: right;\n",
       "    }\n",
       "</style>\n",
       "<table border=\"1\" class=\"dataframe\">\n",
       "  <thead>\n",
       "    <tr style=\"text-align: right;\">\n",
       "      <th></th>\n",
       "      <th>category</th>\n",
       "      <th>title</th>\n",
       "      <th>content</th>\n",
       "      <th>topics</th>\n",
       "      <th>published_on</th>\n",
       "    </tr>\n",
       "  </thead>\n",
       "  <tbody>\n",
       "    <tr>\n",
       "      <th>0</th>\n",
       "      <td>lifeandstyle</td>\n",
       "      <td>My pandemic epiphany: I'd be happy to parent f...</td>\n",
       "      <td>Back in February, a fellow mom of a one-year-o...</td>\n",
       "      <td>[Family, My pandemic epiphany, Children, Paren...</td>\n",
       "      <td>2020-06-12 06:45:54.008</td>\n",
       "    </tr>\n",
       "    <tr>\n",
       "      <th>1</th>\n",
       "      <td>sport</td>\n",
       "      <td>AFL still facing 'significant' financial chall...</td>\n",
       "      <td>The AFL season resumption delivered a record-b...</td>\n",
       "      <td>[AFL, Australian rules football, Australia spo...</td>\n",
       "      <td>2020-06-12 06:45:54.005</td>\n",
       "    </tr>\n",
       "    <tr>\n",
       "      <th>2</th>\n",
       "      <td>global-development</td>\n",
       "      <td>Global protests throw spotlight on alleged pol...</td>\n",
       "      <td>Student Eden Armando Bebari, 19, was allegedly...</td>\n",
       "      <td>[Human rights, Black Lives Matter movement, Ge...</td>\n",
       "      <td>2020-06-12 06:45:54.002</td>\n",
       "    </tr>\n",
       "    <tr>\n",
       "      <th>3</th>\n",
       "      <td>sport</td>\n",
       "      <td>Héritier Lumumba rejects Collingwood's offer t...</td>\n",
       "      <td>Héritier Lumumba says he has “no intention” of...</td>\n",
       "      <td>[AFL, Australian rules football, Australia spo...</td>\n",
       "      <td>2020-06-12 06:45:54.005</td>\n",
       "    </tr>\n",
       "    <tr>\n",
       "      <th>4</th>\n",
       "      <td>politics</td>\n",
       "      <td>Brexit: UK expected to backtrack on full EU bo...</td>\n",
       "      <td>The government is expected to backtrack on its...</td>\n",
       "      <td>[Brexit, European Union, news]</td>\n",
       "      <td>2020-06-12 06:45:54.001</td>\n",
       "    </tr>\n",
       "  </tbody>\n",
       "</table>\n",
       "</div>"
      ],
      "text/plain": [
       "             category                                              title  \\\n",
       "0        lifeandstyle  My pandemic epiphany: I'd be happy to parent f...   \n",
       "1               sport  AFL still facing 'significant' financial chall...   \n",
       "2  global-development  Global protests throw spotlight on alleged pol...   \n",
       "3               sport  Héritier Lumumba rejects Collingwood's offer t...   \n",
       "4            politics  Brexit: UK expected to backtrack on full EU bo...   \n",
       "\n",
       "                                             content  \\\n",
       "0  Back in February, a fellow mom of a one-year-o...   \n",
       "1  The AFL season resumption delivered a record-b...   \n",
       "2  Student Eden Armando Bebari, 19, was allegedly...   \n",
       "3  Héritier Lumumba says he has “no intention” of...   \n",
       "4  The government is expected to backtrack on its...   \n",
       "\n",
       "                                              topics            published_on  \n",
       "0  [Family, My pandemic epiphany, Children, Paren... 2020-06-12 06:45:54.008  \n",
       "1  [AFL, Australian rules football, Australia spo... 2020-06-12 06:45:54.005  \n",
       "2  [Human rights, Black Lives Matter movement, Ge... 2020-06-12 06:45:54.002  \n",
       "3  [AFL, Australian rules football, Australia spo... 2020-06-12 06:45:54.005  \n",
       "4                     [Brexit, European Union, news] 2020-06-12 06:45:54.001  "
      ]
     },
     "execution_count": 28,
     "metadata": {},
     "output_type": "execute_result"
    }
   ],
   "source": [
    "df = db.read_articles()\n",
    "df.head()"
   ]
  },
  {
   "cell_type": "markdown",
   "metadata": {},
   "source": [
    "## Base model"
   ]
  },
  {
   "cell_type": "code",
   "execution_count": 29,
   "metadata": {},
   "outputs": [
    {
     "data": {
      "text/html": [
       "<div>\n",
       "<style scoped>\n",
       "    .dataframe tbody tr th:only-of-type {\n",
       "        vertical-align: middle;\n",
       "    }\n",
       "\n",
       "    .dataframe tbody tr th {\n",
       "        vertical-align: top;\n",
       "    }\n",
       "\n",
       "    .dataframe thead th {\n",
       "        text-align: right;\n",
       "    }\n",
       "</style>\n",
       "<table border=\"1\" class=\"dataframe\">\n",
       "  <thead>\n",
       "    <tr style=\"text-align: right;\">\n",
       "      <th></th>\n",
       "      <th>content</th>\n",
       "      <th>category</th>\n",
       "    </tr>\n",
       "  </thead>\n",
       "  <tbody>\n",
       "    <tr>\n",
       "      <th>0</th>\n",
       "      <td>Back in February, a fellow mom of a one-year-o...</td>\n",
       "      <td>0</td>\n",
       "    </tr>\n",
       "    <tr>\n",
       "      <th>1</th>\n",
       "      <td>The AFL season resumption delivered a record-b...</td>\n",
       "      <td>1</td>\n",
       "    </tr>\n",
       "    <tr>\n",
       "      <th>2</th>\n",
       "      <td>Student Eden Armando Bebari, 19, was allegedly...</td>\n",
       "      <td>2</td>\n",
       "    </tr>\n",
       "    <tr>\n",
       "      <th>3</th>\n",
       "      <td>Héritier Lumumba says he has “no intention” of...</td>\n",
       "      <td>1</td>\n",
       "    </tr>\n",
       "    <tr>\n",
       "      <th>4</th>\n",
       "      <td>The government is expected to backtrack on its...</td>\n",
       "      <td>3</td>\n",
       "    </tr>\n",
       "  </tbody>\n",
       "</table>\n",
       "</div>"
      ],
      "text/plain": [
       "                                             content  category\n",
       "0  Back in February, a fellow mom of a one-year-o...         0\n",
       "1  The AFL season resumption delivered a record-b...         1\n",
       "2  Student Eden Armando Bebari, 19, was allegedly...         2\n",
       "3  Héritier Lumumba says he has “no intention” of...         1\n",
       "4  The government is expected to backtrack on its...         3"
      ]
     },
     "execution_count": 29,
     "metadata": {},
     "output_type": "execute_result"
    }
   ],
   "source": [
    "data = df[['content', 'category']].copy()\n",
    "\n",
    "factorized_cats = pd.factorize(df['category'])\n",
    "\n",
    "data.loc[:,'category'] = factorized_cats[0]\n",
    "data_cat_map = factorized_cats[1]\n",
    "\n",
    "data.head()"
   ]
  },
  {
   "cell_type": "code",
   "execution_count": 96,
   "metadata": {},
   "outputs": [
    {
     "name": "stderr",
     "output_type": "stream",
     "text": [
      "[nltk_data] Downloading package punkt to /home/marco/nltk_data...\n",
      "[nltk_data]   Package punkt is already up-to-date!\n"
     ]
    }
   ],
   "source": [
    "from nltk import word_tokenize, download          \n",
    "from nltk.stem import WordNetLemmatizer \n",
    "from sklearn.model_selection import train_test_split\n",
    "\n",
    "\n",
    "\n",
    "download('punkt')\n",
    "\n",
    "class LemmaTokenizer:\n",
    "    def __init__(self):\n",
    "        self.wnl = WordNetLemmatizer()\n",
    "    def __call__(self, doc):\n",
    "        return [self.wnl.lemmatize(t) for t in word_tokenize(doc)]\n",
    "\n",
    "X, y = data['content'], data['category']\n",
    "\n",
    "\n",
    "tf = TfidfVectorizer(\n",
    "    stop_words='english'\n",
    ")\n",
    "X = tf.fit_transform(X)\n",
    "\n",
    "X_train, X_test, y_train, y_test = train_test_split(X, y, stratify=y, test_size=0.2, random_state=123)"
   ]
  },
  {
   "cell_type": "code",
   "execution_count": 97,
   "metadata": {},
   "outputs": [
    {
     "data": {
      "text/plain": [
       "MultinomialNB(alpha=1.0, class_prior=None, fit_prior=True)"
      ]
     },
     "execution_count": 97,
     "metadata": {},
     "output_type": "execute_result"
    }
   ],
   "source": [
    "from sklearn.metrics import classification_report, confusion_matrix\n",
    "\n",
    "mb = MultinomialNB()\n",
    "mb.fit(X_train, y_train)\n"
   ]
  },
  {
   "cell_type": "code",
   "execution_count": 98,
   "metadata": {},
   "outputs": [
    {
     "name": "stdout",
     "output_type": "stream",
     "text": [
      "              precision    recall  f1-score   support\n",
      "\n",
      "           0       0.84      0.81      0.82       202\n",
      "           1       0.99      0.94      0.96       200\n",
      "           2       0.89      0.91      0.90       200\n",
      "           3       0.84      0.92      0.88       201\n",
      "           4       0.83      0.98      0.89       205\n",
      "           5       0.79      0.84      0.82       201\n",
      "           6       0.99      0.68      0.80       200\n",
      "           7       0.86      0.90      0.88       200\n",
      "\n",
      "    accuracy                           0.87      1609\n",
      "   macro avg       0.88      0.87      0.87      1609\n",
      "weighted avg       0.88      0.87      0.87      1609\n",
      "\n"
     ]
    }
   ],
   "source": [
    "predictions = mb.predict(X_test)\n",
    "print(classification_report(y_test, predictions))"
   ]
  },
  {
   "cell_type": "code",
   "execution_count": 99,
   "metadata": {},
   "outputs": [
    {
     "data": {
      "image/png": "[encoded data removed]",
      "text/plain": [
       "<Figure size 720x720 with 2 Axes>"
      ]
     },
     "metadata": {
      "needs_background": "light"
     },
     "output_type": "display_data"
    }
   ],
   "source": [
    "cm = confusion_matrix(y_test, predictions)\n",
    "\n",
    "fig, ax = plt.subplots(figsize=(10, 10))\n",
    "sns.heatmap(cm, annot=True, xticklabels=data_cat_map, yticklabels=data_cat_map, fmt='g')\n",
    "plt.xlabel(\"Predicted\")\n",
    "plt.ylabel(\"Real\")\n",
    "plt.title(\"MultinomialNB confusion matrix\")\n",
    "\n",
    "plt.show()"
   ]
  },
  {
   "cell_type": "code",
   "execution_count": 112,
   "metadata": {},
   "outputs": [
    {
     "data": {
      "image/png": "[encoded data removed]",
      "text/plain": [
       "<Figure size 720x360 with 1 Axes>"
      ]
     },
     "metadata": {
      "needs_background": "light"
     },
     "output_type": "display_data"
    }
   ],
   "source": [
    "lc_results = learning_curve(MultinomialNB(), X, y, cv=5, n_jobs=-1, random_state=123)\n",
    "\n",
    "xlabel = lc_results[0]\n",
    "\n",
    "mean_train_scores = np.array([ np.mean(scores) for scores in lc_results[1]])\n",
    "mean_test_scores = np.array([ np.mean(scores) for scores in lc_results[2]])\n",
    "\n",
    "std_train_scores = np.array([ np.std(scores) for scores in lc_results[1]])\n",
    "std_test_scores = np.array([ np.std(scores) for scores in lc_results[2]])\n",
    "\n",
    "fig, ax = plt.subplots(1, 1, figsize=(10, 5))\n",
    "\n",
    "sns.lineplot(x=xlabel, y=mean_train_scores, ax=ax, label=\"Train scores\")\n",
    "sns.lineplot(x=xlabel, y=mean_test_scores, ax=ax, label=\"Test scores\")\n",
    "\n",
    "ax.grid()\n",
    "ax.fill_between(xlabel, mean_train_scores - std_train_scores,\n",
    "                     mean_train_scores + std_train_scores, alpha=0.1)\n",
    "ax.fill_between(xlabel, mean_test_scores - std_test_scores,\n",
    "                     mean_test_scores + std_test_scores, alpha=0.1)\n",
    "\n",
    "\n",
    "\n",
    "plt.title(\"MultinomialNB Learning Curve\")\n",
    "plt.xlabel(\"Amount of used observations\")\n",
    "plt.ylabel(\"Accuracy score\")\n",
    "\n",
    "plt.show()"
   ]
  },
  {
   "cell_type": "code",
   "execution_count": null,
   "metadata": {},
   "outputs": [],
   "source": []
  }
 ],
 "metadata": {
  "kernelspec": {
   "display_name": "Python 3",
   "language": "python",
   "name": "python3"
  },
  "language_info": {
   "codemirror_mode": {
    "name": "ipython",
    "version": 3
   },
   "file_extension": ".py",
   "mimetype": "text/x-python",
   "name": "python",
   "nbconvert_exporter": "python",
   "pygments_lexer": "ipython3",
   "version": "3.8.3"
  }
 },
 "nbformat": 4,
 "nbformat_minor": 4
}
